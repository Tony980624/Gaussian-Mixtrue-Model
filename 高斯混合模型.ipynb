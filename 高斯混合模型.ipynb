{
 "cells": [
  {
   "cell_type": "code",
   "execution_count": 194,
   "metadata": {},
   "outputs": [],
   "source": [
    "import numpy as np\n",
    "import matplotlib.pyplot as plt\n",
    "import pandas as pd "
   ]
  },
  {
   "cell_type": "code",
   "execution_count": 195,
   "metadata": {},
   "outputs": [
    {
     "name": "stderr",
     "output_type": "stream",
     "text": [
      "C:\\Users\\Administrator\\AppData\\Local\\Temp\\ipykernel_15740\\3608832630.py:2: FutureWarning: Downcasting behavior in `replace` is deprecated and will be removed in a future version. To retain the old behavior, explicitly call `result.infer_objects(copy=False)`. To opt-in to the future behavior, set `pd.set_option('future.no_silent_downcasting', True)`\n",
      "  train_data['Sex'] = train_data['Sex'].replace({'Female':1,'Male':0})\n"
     ]
    }
   ],
   "source": [
    "train_data = pd.read_csv(f'D:/Download/Training set.csv')\n",
    "train_data['Sex'] = train_data['Sex'].replace({'Female':1,'Male':0})"
   ]
  },
  {
   "cell_type": "code",
   "execution_count": 196,
   "metadata": {},
   "outputs": [],
   "source": [
    "male_data = train_data[train_data['Sex'] == 0]\n",
    "female_data = train_data[train_data['Sex'] == 1]"
   ]
  },
  {
   "cell_type": "code",
   "execution_count": 197,
   "metadata": {},
   "outputs": [],
   "source": [
    "male_mean = [male_data.iloc[:,0].mean(),male_data.iloc[:,1].mean()]\n",
    "male_cov = np.cov(male_data.iloc[:, 0], male_data.iloc[:, 1])"
   ]
  },
  {
   "cell_type": "code",
   "execution_count": 198,
   "metadata": {},
   "outputs": [],
   "source": [
    "female_data = female_data[female_data['Height'] <= 250]\n",
    "female_mean = [female_data.iloc[:,0].mean(),female_data.iloc[:,1].mean()]\n",
    "female_cov = np.cov(female_data.iloc[:, 0], female_data.iloc[:, 1])\n",
    "f_prior_p = len(female_data)/len(train_data)\n",
    "m_prior_p = 1-f_prior_p"
   ]
  },
  {
   "cell_type": "code",
   "execution_count": 199,
   "metadata": {},
   "outputs": [],
   "source": [
    "class GaussianModel:\n",
    "    def __init__(self, male_mean, female_mean, male_cov, female_cov, prior_prob_m, prior_prob_f):\n",
    "        self.male_m = np.array(male_mean)\n",
    "        self.female_m = np.array(female_mean)\n",
    "        self.male_cov = np.array(male_cov)\n",
    "        self.female_cov = np.array(female_cov)\n",
    "        self.prior_prob_m = prior_prob_m\n",
    "        self.prior_prob_f = prior_prob_f\n",
    "\n",
    "    def predict(self, x):\n",
    "        x = np.array(x) \n",
    "        result = []\n",
    "        male_cov_det = np.linalg.det(self.male_cov)\n",
    "        female_cov_det = np.linalg.det(self.female_cov)\n",
    "        male_cov_inv = np.linalg.inv(self.male_cov)\n",
    "        female_cov_inv = np.linalg.inv(self.female_cov)\n",
    "        for row in x:\n",
    "            diff_m = row - self.male_m\n",
    "            m_density = (\n",
    "                1 / np.sqrt((2 * np.pi) ** len(row) * male_cov_det)\n",
    "                * np.exp(-0.5 * diff_m @ male_cov_inv @ diff_m)\n",
    "            )\n",
    "            diff_f = row - self.female_m\n",
    "            f_density = (\n",
    "                1 / np.sqrt((2 * np.pi) ** len(row) * female_cov_det)\n",
    "                * np.exp(-0.5 * diff_f @ female_cov_inv @ diff_f)\n",
    "            )\n",
    "            pro_m = self.prior_prob_m * m_density\n",
    "            pro_f = self.prior_prob_f * f_density\n",
    "            if pro_m < pro_f:\n",
    "                result.append(1)  # Female\n",
    "            else:\n",
    "                result.append(0)  # Male\n",
    "        return result"
   ]
  },
  {
   "cell_type": "code",
   "execution_count": 200,
   "metadata": {},
   "outputs": [
    {
     "name": "stderr",
     "output_type": "stream",
     "text": [
      "C:\\Users\\Administrator\\AppData\\Local\\Temp\\ipykernel_15740\\2384424853.py:4: FutureWarning: Downcasting behavior in `replace` is deprecated and will be removed in a future version. To retain the old behavior, explicitly call `result.infer_objects(copy=False)`. To opt-in to the future behavior, set `pd.set_option('future.no_silent_downcasting', True)`\n",
      "  labels = labels.replace({'Female':1,'Male':0})\n"
     ]
    },
    {
     "data": {
      "text/plain": [
       "array([1, 0, 0, 0, 1, 1, 0, 1, 0, 0, 0, 0, 1, 1, 1, 1, 0, 0, 0, 0, 1, 0,\n",
       "       0, 1, 1, 1, 1, 0, 0, 1, 1, 0, 1, 0, 0, 0, 1, 0, 1, 0, 1, 1, 1, 0,\n",
       "       0, 1, 0, 0, 0, 1, 0, 0, 1, 0, 0, 0, 0, 0, 0, 1, 1, 1, 0, 0, 0, 0,\n",
       "       1, 1, 0, 0, 0, 0, 1, 1, 0, 1, 1, 0, 1, 1, 0, 1, 1, 1, 1, 0, 0, 0,\n",
       "       0, 1, 1, 1, 0, 1, 0, 0, 0, 1, 1, 0, 0, 1, 1, 0, 0, 1, 1, 1, 1, 1,\n",
       "       1, 1, 1, 1, 1, 1, 1, 0, 1, 1, 1, 0, 0, 1, 0, 1, 0, 0, 0, 1, 1, 1,\n",
       "       1, 0, 1, 0, 0, 1, 1, 0, 0, 1, 1, 0, 0, 0, 0, 1, 0, 0, 1, 1, 0, 0,\n",
       "       0, 0, 1, 1, 0, 1, 0, 0, 0, 0, 1, 1, 1, 0, 0, 0, 1, 0, 1, 0, 1, 0,\n",
       "       0, 1, 0, 0, 1, 0, 1, 0, 0, 1, 0, 0, 0, 0, 1, 0, 1, 0, 0, 1, 1, 1,\n",
       "       1, 1, 1, 0, 1, 0, 1], dtype=int64)"
      ]
     },
     "execution_count": 200,
     "metadata": {},
     "output_type": "execute_result"
    }
   ],
   "source": [
    "test_data = pd.read_csv(f'D:/Download/Test set.csv')\n",
    "test = test_data.iloc[:,:2]\n",
    "labels = test_data.iloc[:,2]\n",
    "labels = labels.replace({'Female':1,'Male':0})\n",
    "labels = np.array(labels)"
   ]
  },
  {
   "cell_type": "code",
   "execution_count": 205,
   "metadata": {},
   "outputs": [
    {
     "data": {
      "text/plain": [
       "array([[94, 12],\n",
       "       [15, 84]], dtype=int64)"
      ]
     },
     "execution_count": 205,
     "metadata": {},
     "output_type": "execute_result"
    }
   ],
   "source": [
    "model = GaussianModel(male_mean,female_mean,male_cov,female_cov,m_prior_p,f_prior_p)\n",
    "prediction = model.predict(test)\n",
    "from sklearn.metrics import confusion_matrix\n",
    "confusion_matrix(labels,prediction)"
   ]
  }
 ],
 "metadata": {
  "kernelspec": {
   "display_name": "new_env",
   "language": "python",
   "name": "python3"
  },
  "language_info": {
   "codemirror_mode": {
    "name": "ipython",
    "version": 3
   },
   "file_extension": ".py",
   "mimetype": "text/x-python",
   "name": "python",
   "nbconvert_exporter": "python",
   "pygments_lexer": "ipython3",
   "version": "3.9.18"
  }
 },
 "nbformat": 4,
 "nbformat_minor": 2
}
